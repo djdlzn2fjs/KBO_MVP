{
 "cells": [
  {
   "cell_type": "code",
   "execution_count": 2,
   "metadata": {
    "id": "FxkFzyCUZj7E"
   },
   "outputs": [],
   "source": [
    "import numpy as np\n",
    "import pandas as pd\n",
    "import matplotlib.pyplot as plt\n",
    "from scipy import stats\n",
    "import seaborn as sns"
   ]
  },
  {
   "cell_type": "code",
   "execution_count": 3,
   "metadata": {
    "id": "_4btmSjBbL-x"
   },
   "outputs": [],
   "source": [
    "from sklearn.model_selection import train_test_split\n",
    "from sklearn.metrics import confusion_matrix\n",
    "from sklearn.metrics import accuracy_score\n",
    "from sklearn.metrics import precision_score\n",
    "from sklearn.metrics import recall_score"
   ]
  },
  {
   "cell_type": "code",
   "execution_count": 4,
   "metadata": {
    "id": "zjz6kUGQayrb"
   },
   "outputs": [],
   "source": [
    "import matplotlib.cm as cm\n",
    "import math\n",
    "from matplotlib.colors import ListedColormap\n",
    "\n",
    "def plot_decision_regions(X, y, classifier, resolution=0.02):\n",
    "\n",
    "    # 마커와 컬러맵을 설정합니다\n",
    "    markers = ('s', 'x', 'o', '^', 'v')\n",
    "    colors = ('red', 'blue', 'lightgreen', 'gray', 'cyan')\n",
    "    cmap = ListedColormap(colors[:len(np.unique(y))])\n",
    "\n",
    "    # 결정 경계를 그립니다\n",
    "    x1_min, x1_max = X[:, 0].min() - 1, X[:, 0].max() + 1\n",
    "    x2_min, x2_max = X[:, 1].min() - 1, X[:, 1].max() + 1\n",
    "    xx1, xx2 = np.meshgrid(np.arange(x1_min, x1_max, resolution),\n",
    "                           np.arange(x2_min, x2_max, resolution))\n",
    "    Z = classifier.predict(np.array([xx1.ravel(), xx2.ravel()]).T)\n",
    "    Z = Z.reshape(xx1.shape)\n",
    "    plt.contourf(xx1, xx2, Z, alpha=0.3, cmap=cmap)\n",
    "    plt.xlim(xx1.min(), xx1.max())\n",
    "    plt.ylim(xx2.min(), xx2.max())\n",
    "\n",
    "    # 샘플의 산점도를 그립니다\n",
    "    for idx, cl in enumerate(np.unique(y)):\n",
    "        plt.scatter(x=X[y == cl, 0], y=X[y == cl, 1],\n",
    "                    alpha=0.8, c=colors[idx],\n",
    "                    marker=markers[idx], label=cl, \n",
    "                    edgecolor='black')"
   ]
  },
  {
   "cell_type": "code",
   "execution_count": 94,
   "metadata": {
    "colab": {
     "base_uri": "https://localhost:8080/",
     "height": 385
    },
    "id": "vlrFZfNvaiSL",
    "outputId": "427a1114-4b47-4a28-9044-de431ea945c9"
   },
   "outputs": [],
   "source": [
    "pit = pd.read_excel('https://github.com/siestageek/datasets/blob/master/xlsx/df_pit_2(%EC%88%98%EC%A0%95).xlsx?raw=true')"
   ]
  },
  {
   "cell_type": "code",
   "execution_count": 95,
   "metadata": {},
   "outputs": [],
   "source": [
    "pit = pit.sort_values('player_W', ascending=False)[:95]"
   ]
  },
  {
   "cell_type": "code",
   "execution_count": 65,
   "metadata": {},
   "outputs": [
    {
     "data": {
      "text/plain": [
       "0    36\n",
       "1     9\n",
       "Name: mvp, dtype: int64"
      ]
     },
     "execution_count": 65,
     "metadata": {},
     "output_type": "execute_result"
    }
   ],
   "source": [
    "pit.sort_values('player_W', ascending=False)[:45].mvp.value_counts()"
   ]
  },
  {
   "cell_type": "code",
   "execution_count": 96,
   "metadata": {
    "colab": {
     "base_uri": "https://localhost:8080/",
     "height": 90
    },
    "id": "S9kKoYwYbcxA",
    "outputId": "9fb0d2f3-e571-4046-96f2-a74933f7f652"
   },
   "outputs": [
    {
     "name": "stdout",
     "output_type": "stream",
     "text": [
      "종속변수 값 비율\n",
      " 0    86\n",
      "1     9\n",
      "Name: mvp, dtype: int64\n"
     ]
    }
   ],
   "source": [
    "data = pit.loc[:, ['player_W','player_WPCT']].to_numpy()    # 'player_ERA'\n",
    "target = pit.loc[:, 'mvp']\n",
    "\n",
    "print(\"종속변수 값 비율\\n\", target.value_counts())\n",
    "\n",
    "# 데이터 분할\n",
    "x_train, x_test, y_train, y_test = \\\n",
    "    train_test_split(data, target, test_size=0.3,\n",
    "            random_state=2010061100, stratify=target)\n",
    "    "
   ]
  },
  {
   "cell_type": "code",
   "execution_count": 97,
   "metadata": {
    "colab": {
     "base_uri": "https://localhost:8080/",
     "height": 678
    },
    "id": "51lVx4_lfoGK",
    "outputId": "d0d06498-681c-4597-ea3f-a5880635b991"
   },
   "outputs": [
    {
     "name": "stdout",
     "output_type": "stream",
     "text": [
      "훈련 정확도 0.9090909090909091\n",
      "예측정확도 0.896551724137931\n",
      "[[26  0]\n",
      " [ 3  0]]\n",
      "정밀도 1.0\n",
      "재현율 0.896551724137931\n"
     ]
    },
    {
     "name": "stderr",
     "output_type": "stream",
     "text": [
      "C:\\ProgramData\\Anaconda3\\lib\\site-packages\\sklearn\\metrics\\_classification.py:1221: UndefinedMetricWarning: Recall is ill-defined and being set to 0.0 in labels with no true samples. Use `zero_division` parameter to control this behavior.\n",
      "  _warn_prf(average, modifier, msg_start, len(result))\n"
     ]
    },
    {
     "data": {
      "image/png": "[encoded data removed]",
      "text/plain": [
       "<Figure size 432x288 with 1 Axes>"
      ]
     },
     "metadata": {
      "needs_background": "light"
     },
     "output_type": "display_data"
    },
    {
     "data": {
      "image/png": "[encoded data removed]",
      "text/plain": [
       "<Figure size 432x288 with 1 Axes>"
      ]
     },
     "metadata": {
      "needs_background": "light"
     },
     "output_type": "display_data"
    }
   ],
   "source": [
    "# 로지스틱 회귀\n",
    "\n",
    "from sklearn.linear_model import LogisticRegression\n",
    "\n",
    "lr = LogisticRegression()\n",
    "lr.fit(x_train, y_train)\n",
    "\n",
    "print('훈련 정확도', lr.score(x_train, y_train))\n",
    "\n",
    "pred = lr.predict(x_test)\n",
    "\n",
    "# 모델 평가\n",
    "print('예측정확도', accuracy_score(pred, y_test))\n",
    "print(confusion_matrix(y_test, pred))\n",
    "print('정밀도', precision_score(pred, y_test, average='weighted'))\n",
    "print('재현율', recall_score(pred, y_test, average='weighted'))\n",
    "\n",
    "plot_decision_regions(x_train, y_train, lr)\n",
    "plt.show()\n",
    "\n",
    "plot_decision_regions(x_test, y_test, lr)\n",
    "plt.show()"
   ]
  },
  {
   "cell_type": "code",
   "execution_count": 98,
   "metadata": {
    "colab": {
     "base_uri": "https://localhost:8080/",
     "height": 72
    },
    "id": "BcglqRmBfobX",
    "outputId": "2519824f-176d-427b-9da6-8b6a7570dc70"
   },
   "outputs": [
    {
     "name": "stdout",
     "output_type": "stream",
     "text": [
      "훈련 정확도 0.9052631578947369\n",
      "[[86  0]\n",
      " [ 9  0]]\n"
     ]
    }
   ],
   "source": [
    "lr = LogisticRegression()\n",
    "lr.fit(data, target)\n",
    "\n",
    "print('훈련 정확도', lr.score(data, target))\n",
    "\n",
    "print(confusion_matrix(target, lr.predict(data)))\n"
   ]
  },
  {
   "cell_type": "code",
   "execution_count": 99,
   "metadata": {
    "colab": {
     "base_uri": "https://localhost:8080/",
     "height": 622
    },
    "id": "B5JsnJqnfn6f",
    "outputId": "a36efdc8-e7b2-4876-a582-8de68bed5b3c"
   },
   "outputs": [
    {
     "name": "stdout",
     "output_type": "stream",
     "text": [
      "훈련 정확도 0.9545454545454546\n",
      "예측정확도 0.9310344827586207\n",
      "[[26  0]\n",
      " [ 2  1]]\n",
      "정밀도 0.9770114942528735\n",
      "재현율 0.9310344827586207\n"
     ]
    },
    {
     "data": {
      "image/png": "[encoded data removed]",
      "text/plain": [
       "<Figure size 432x288 with 1 Axes>"
      ]
     },
     "metadata": {
      "needs_background": "light"
     },
     "output_type": "display_data"
    },
    {
     "data": {
      "image/png": "[encoded data removed]",
      "text/plain": [
       "<Figure size 432x288 with 1 Axes>"
      ]
     },
     "metadata": {
      "needs_background": "light"
     },
     "output_type": "display_data"
    }
   ],
   "source": [
    "# 의사결정나무\n",
    "\n",
    "from sklearn.tree import DecisionTreeClassifier\n",
    "\n",
    "dt = DecisionTreeClassifier()\n",
    "dt.fit(x_train, y_train)\n",
    "\n",
    "print('훈련 정확도', dt.score(x_train, y_train))\n",
    "\n",
    "pred = dt.predict(x_test)\n",
    "\n",
    "# 모델 평가\n",
    "print('예측정확도', accuracy_score(pred, y_test))\n",
    "print(confusion_matrix(y_test, pred))\n",
    "print('정밀도', precision_score(pred, y_test, average='weighted'))\n",
    "print('재현율', recall_score(pred, y_test, average='weighted'))\n",
    "\n",
    "plot_decision_regions(x_train, y_train, dt)\n",
    "plt.show()\n",
    "\n",
    "plot_decision_regions(x_test, y_test, dt)\n",
    "plt.show()"
   ]
  },
  {
   "cell_type": "code",
   "execution_count": 100,
   "metadata": {
    "colab": {
     "base_uri": "https://localhost:8080/",
     "height": 72
    },
    "id": "FsNkdkt9hGSw",
    "outputId": "be97e960-0617-4418-b781-fc57aea54c81"
   },
   "outputs": [
    {
     "name": "stdout",
     "output_type": "stream",
     "text": [
      "훈련 정확도 0.9473684210526315\n",
      "[[86  0]\n",
      " [ 9  0]]\n"
     ]
    }
   ],
   "source": [
    "dt = DecisionTreeClassifier()\n",
    "dt.fit(data, target)\n",
    "\n",
    "print('훈련 정확도', dt.score(data, target))\n",
    "\n",
    "print(confusion_matrix(target, lr.predict(data)))"
   ]
  },
  {
   "cell_type": "code",
   "execution_count": 101,
   "metadata": {
    "colab": {
     "base_uri": "https://localhost:8080/",
     "height": 678
    },
    "id": "cxzFx0lNbPYg",
    "outputId": "ef7d20b6-6f9a-4a52-827e-a81a1ae5f2c8"
   },
   "outputs": [
    {
     "name": "stdout",
     "output_type": "stream",
     "text": [
      "훈련 정확도 0.9090909090909091\n",
      "예측정확도 0.896551724137931\n",
      "[[26  0]\n",
      " [ 3  0]]\n",
      "정밀도 1.0\n",
      "재현율 0.896551724137931\n"
     ]
    },
    {
     "name": "stderr",
     "output_type": "stream",
     "text": [
      "C:\\ProgramData\\Anaconda3\\lib\\site-packages\\sklearn\\metrics\\_classification.py:1221: UndefinedMetricWarning: Recall is ill-defined and being set to 0.0 in labels with no true samples. Use `zero_division` parameter to control this behavior.\n",
      "  _warn_prf(average, modifier, msg_start, len(result))\n"
     ]
    },
    {
     "data": {
      "image/png": "[encoded data removed]",
      "text/plain": [
       "<Figure size 432x288 with 1 Axes>"
      ]
     },
     "metadata": {
      "needs_background": "light"
     },
     "output_type": "display_data"
    },
    {
     "data": {
      "image/png": "[encoded data removed]",
      "text/plain": [
       "<Figure size 432x288 with 1 Axes>"
      ]
     },
     "metadata": {
      "needs_background": "light"
     },
     "output_type": "display_data"
    }
   ],
   "source": [
    "# 나이브 베이즈\n",
    "\n",
    "from sklearn.naive_bayes import MultinomialNB\n",
    "from sklearn.naive_bayes import BernoulliNB\n",
    "\n",
    "bayes = BernoulliNB()\n",
    "bayes.fit(x_train, y_train)\n",
    "print('훈련 정확도', bayes.score(x_train, y_train))\n",
    "\n",
    "pred = bayes.predict(x_test)\n",
    "\n",
    "# 모델 평가\n",
    "print('예측정확도', accuracy_score(pred, y_test))\n",
    "print(confusion_matrix(y_test, pred))\n",
    "print('정밀도', precision_score(pred, y_test, average='weighted'))\n",
    "print('재현율', recall_score(pred, y_test, average='weighted'))\n",
    "\n",
    "plot_decision_regions(x_train, y_train, bayes)\n",
    "plt.show()\n",
    "\n",
    "plot_decision_regions(x_test, y_test, bayes)\n",
    "plt.show()"
   ]
  },
  {
   "cell_type": "code",
   "execution_count": 102,
   "metadata": {
    "colab": {
     "base_uri": "https://localhost:8080/",
     "height": 72
    },
    "id": "w_k6hAeYcKmc",
    "outputId": "78fc37f5-3893-489a-f14f-4d88c6aad240"
   },
   "outputs": [
    {
     "name": "stdout",
     "output_type": "stream",
     "text": [
      "훈련 정확도 0.9052631578947369\n",
      "[[86  0]\n",
      " [ 9  0]]\n"
     ]
    }
   ],
   "source": [
    "bayes = BernoulliNB()\n",
    "bayes.fit(data, target)\n",
    "print('훈련 정확도', bayes.score(data, target))\n",
    "\n",
    "# 모델 평가\n",
    "print(confusion_matrix(target, bayes.predict(data)))"
   ]
  },
  {
   "cell_type": "code",
   "execution_count": 123,
   "metadata": {
    "colab": {
     "base_uri": "https://localhost:8080/",
     "height": 622
    },
    "id": "CvQP0rMxdRA7",
    "outputId": "b4a258cc-3c5e-441e-80a7-9320ca64b5b1"
   },
   "outputs": [
    {
     "name": "stdout",
     "output_type": "stream",
     "text": [
      "훈련정확도 0.9393939393939394\n",
      "예측정확도 0.9310344827586207\n",
      "[[26  0]\n",
      " [ 2  1]]\n",
      "정밀도 0.9770114942528735\n",
      "재현율 0.9310344827586207\n"
     ]
    },
    {
     "data": {
      "image/png": "[encoded data removed]",
      "text/plain": [
       "<Figure size 432x288 with 1 Axes>"
      ]
     },
     "metadata": {
      "needs_background": "light"
     },
     "output_type": "display_data"
    },
    {
     "data": {
      "image/png": "[encoded data removed]",
      "text/plain": [
       "<Figure size 432x288 with 1 Axes>"
      ]
     },
     "metadata": {
      "needs_background": "light"
     },
     "output_type": "display_data"
    }
   ],
   "source": [
    "# KNN\n",
    "\n",
    "from sklearn.neighbors import KNeighborsClassifier\n",
    "\n",
    "# knn 분석 : k=4\n",
    "knn = KNeighborsClassifier(n_neighbors=5)\n",
    "knn.fit(x_train, y_train)\n",
    "\n",
    "pred = knn.predict(x_test)\n",
    "\n",
    "print('훈련정확도', knn.score(x_train, y_train))\n",
    "print('예측정확도', accuracy_score(pred, y_test))\n",
    "\n",
    "print(confusion_matrix(y_test, pred))\n",
    "\n",
    "print('정밀도', precision_score(pred, y_test, average='weighted'))\n",
    "print('재현율', recall_score(pred, y_test, average='weighted'))\n",
    "\n",
    "plot_decision_regions(x_train, y_train, knn)\n",
    "plt.show()\n",
    "\n",
    "plot_decision_regions(x_test, y_test, knn)\n",
    "plt.show()"
   ]
  },
  {
   "cell_type": "code",
   "execution_count": 124,
   "metadata": {
    "colab": {
     "base_uri": "https://localhost:8080/",
     "height": 72
    },
    "id": "rYhS3IEtd3Z0",
    "outputId": "418b533f-6408-4f20-dbba-e47a0c583fd6"
   },
   "outputs": [
    {
     "name": "stdout",
     "output_type": "stream",
     "text": [
      "훈련정확도 0.9578947368421052\n",
      "[[86  0]\n",
      " [ 4  5]]\n"
     ]
    }
   ],
   "source": [
    "knn = KNeighborsClassifier(n_neighbors=5)\n",
    "knn.fit(data, target)\n",
    "\n",
    "print('훈련정확도', knn.score(data, target))\n",
    "\n",
    "print(confusion_matrix(target, knn.predict(data)))"
   ]
  },
  {
   "cell_type": "code",
   "execution_count": 105,
   "metadata": {
    "colab": {
     "base_uri": "https://localhost:8080/",
     "height": 1000
    },
    "id": "R0WqH_n4e8hQ",
    "outputId": "dc6334c9-1a2d-4ae2-f959-a6a1edff98e9"
   },
   "outputs": [
    {
     "name": "stderr",
     "output_type": "stream",
     "text": [
      "C:\\ProgramData\\Anaconda3\\lib\\site-packages\\sklearn\\model_selection\\_split.py:672: UserWarning: The least populated class in y has only 6 members, which is less than n_splits=10.\n",
      "  % (min_groups, self.n_splits)), UserWarning)\n",
      "C:\\ProgramData\\Anaconda3\\lib\\site-packages\\sklearn\\model_selection\\_split.py:672: UserWarning: The least populated class in y has only 6 members, which is less than n_splits=10.\n",
      "  % (min_groups, self.n_splits)), UserWarning)\n",
      "C:\\ProgramData\\Anaconda3\\lib\\site-packages\\sklearn\\model_selection\\_split.py:672: UserWarning: The least populated class in y has only 6 members, which is less than n_splits=10.\n",
      "  % (min_groups, self.n_splits)), UserWarning)\n",
      "C:\\ProgramData\\Anaconda3\\lib\\site-packages\\sklearn\\model_selection\\_split.py:672: UserWarning: The least populated class in y has only 6 members, which is less than n_splits=10.\n",
      "  % (min_groups, self.n_splits)), UserWarning)\n",
      "C:\\ProgramData\\Anaconda3\\lib\\site-packages\\sklearn\\model_selection\\_split.py:672: UserWarning: The least populated class in y has only 6 members, which is less than n_splits=10.\n",
      "  % (min_groups, self.n_splits)), UserWarning)\n",
      "C:\\ProgramData\\Anaconda3\\lib\\site-packages\\sklearn\\model_selection\\_split.py:672: UserWarning: The least populated class in y has only 6 members, which is less than n_splits=10.\n",
      "  % (min_groups, self.n_splits)), UserWarning)\n",
      "C:\\ProgramData\\Anaconda3\\lib\\site-packages\\sklearn\\model_selection\\_split.py:672: UserWarning: The least populated class in y has only 6 members, which is less than n_splits=10.\n",
      "  % (min_groups, self.n_splits)), UserWarning)\n",
      "C:\\ProgramData\\Anaconda3\\lib\\site-packages\\sklearn\\model_selection\\_split.py:672: UserWarning: The least populated class in y has only 6 members, which is less than n_splits=10.\n",
      "  % (min_groups, self.n_splits)), UserWarning)\n",
      "C:\\ProgramData\\Anaconda3\\lib\\site-packages\\sklearn\\model_selection\\_split.py:672: UserWarning: The least populated class in y has only 6 members, which is less than n_splits=10.\n",
      "  % (min_groups, self.n_splits)), UserWarning)\n",
      "C:\\ProgramData\\Anaconda3\\lib\\site-packages\\sklearn\\model_selection\\_split.py:672: UserWarning: The least populated class in y has only 6 members, which is less than n_splits=10.\n",
      "  % (min_groups, self.n_splits)), UserWarning)\n",
      "C:\\ProgramData\\Anaconda3\\lib\\site-packages\\sklearn\\model_selection\\_split.py:672: UserWarning: The least populated class in y has only 6 members, which is less than n_splits=10.\n",
      "  % (min_groups, self.n_splits)), UserWarning)\n",
      "C:\\ProgramData\\Anaconda3\\lib\\site-packages\\sklearn\\model_selection\\_split.py:672: UserWarning: The least populated class in y has only 6 members, which is less than n_splits=10.\n",
      "  % (min_groups, self.n_splits)), UserWarning)\n",
      "C:\\ProgramData\\Anaconda3\\lib\\site-packages\\sklearn\\model_selection\\_split.py:672: UserWarning: The least populated class in y has only 6 members, which is less than n_splits=10.\n",
      "  % (min_groups, self.n_splits)), UserWarning)\n",
      "C:\\ProgramData\\Anaconda3\\lib\\site-packages\\sklearn\\model_selection\\_split.py:672: UserWarning: The least populated class in y has only 6 members, which is less than n_splits=10.\n",
      "  % (min_groups, self.n_splits)), UserWarning)\n",
      "C:\\ProgramData\\Anaconda3\\lib\\site-packages\\sklearn\\model_selection\\_split.py:672: UserWarning: The least populated class in y has only 6 members, which is less than n_splits=10.\n",
      "  % (min_groups, self.n_splits)), UserWarning)\n",
      "C:\\ProgramData\\Anaconda3\\lib\\site-packages\\sklearn\\model_selection\\_split.py:672: UserWarning: The least populated class in y has only 6 members, which is less than n_splits=10.\n",
      "  % (min_groups, self.n_splits)), UserWarning)\n",
      "C:\\ProgramData\\Anaconda3\\lib\\site-packages\\sklearn\\model_selection\\_split.py:672: UserWarning: The least populated class in y has only 6 members, which is less than n_splits=10.\n",
      "  % (min_groups, self.n_splits)), UserWarning)\n",
      "C:\\ProgramData\\Anaconda3\\lib\\site-packages\\sklearn\\model_selection\\_split.py:672: UserWarning: The least populated class in y has only 6 members, which is less than n_splits=10.\n",
      "  % (min_groups, self.n_splits)), UserWarning)\n",
      "C:\\ProgramData\\Anaconda3\\lib\\site-packages\\sklearn\\model_selection\\_split.py:672: UserWarning: The least populated class in y has only 6 members, which is less than n_splits=10.\n",
      "  % (min_groups, self.n_splits)), UserWarning)\n",
      "C:\\ProgramData\\Anaconda3\\lib\\site-packages\\sklearn\\model_selection\\_split.py:672: UserWarning: The least populated class in y has only 6 members, which is less than n_splits=10.\n",
      "  % (min_groups, self.n_splits)), UserWarning)\n",
      "C:\\ProgramData\\Anaconda3\\lib\\site-packages\\sklearn\\model_selection\\_split.py:672: UserWarning: The least populated class in y has only 6 members, which is less than n_splits=10.\n",
      "  % (min_groups, self.n_splits)), UserWarning)\n",
      "C:\\ProgramData\\Anaconda3\\lib\\site-packages\\sklearn\\model_selection\\_split.py:672: UserWarning: The least populated class in y has only 6 members, which is less than n_splits=10.\n",
      "  % (min_groups, self.n_splits)), UserWarning)\n",
      "C:\\ProgramData\\Anaconda3\\lib\\site-packages\\sklearn\\model_selection\\_split.py:672: UserWarning: The least populated class in y has only 6 members, which is less than n_splits=10.\n",
      "  % (min_groups, self.n_splits)), UserWarning)\n",
      "C:\\ProgramData\\Anaconda3\\lib\\site-packages\\sklearn\\model_selection\\_split.py:672: UserWarning: The least populated class in y has only 6 members, which is less than n_splits=10.\n",
      "  % (min_groups, self.n_splits)), UserWarning)\n",
      "C:\\ProgramData\\Anaconda3\\lib\\site-packages\\sklearn\\model_selection\\_split.py:672: UserWarning: The least populated class in y has only 6 members, which is less than n_splits=10.\n",
      "  % (min_groups, self.n_splits)), UserWarning)\n",
      "C:\\ProgramData\\Anaconda3\\lib\\site-packages\\sklearn\\model_selection\\_split.py:672: UserWarning: The least populated class in y has only 6 members, which is less than n_splits=10.\n",
      "  % (min_groups, self.n_splits)), UserWarning)\n",
      "C:\\ProgramData\\Anaconda3\\lib\\site-packages\\sklearn\\model_selection\\_split.py:672: UserWarning: The least populated class in y has only 6 members, which is less than n_splits=10.\n",
      "  % (min_groups, self.n_splits)), UserWarning)\n",
      "C:\\ProgramData\\Anaconda3\\lib\\site-packages\\sklearn\\model_selection\\_split.py:672: UserWarning: The least populated class in y has only 6 members, which is less than n_splits=10.\n",
      "  % (min_groups, self.n_splits)), UserWarning)\n",
      "C:\\ProgramData\\Anaconda3\\lib\\site-packages\\sklearn\\model_selection\\_split.py:672: UserWarning: The least populated class in y has only 6 members, which is less than n_splits=10.\n",
      "  % (min_groups, self.n_splits)), UserWarning)\n",
      "C:\\ProgramData\\Anaconda3\\lib\\site-packages\\sklearn\\model_selection\\_split.py:672: UserWarning: The least populated class in y has only 6 members, which is less than n_splits=10.\n",
      "  % (min_groups, self.n_splits)), UserWarning)\n"
     ]
    },
    {
     "data": {
      "image/png": "[encoded data removed]",
      "text/plain": [
       "<Figure size 432x288 with 1 Axes>"
      ]
     },
     "metadata": {
      "needs_background": "light"
     },
     "output_type": "display_data"
    }
   ],
   "source": [
    "from sklearn.model_selection import cross_val_score\n",
    "\n",
    "scores = []\n",
    "for k in range(1,31):\n",
    "    knn = KNeighborsClassifier(n_neighbors=k)\n",
    "    score = cross_val_score(knn, x_train, y_train,\n",
    "                            cv=10, scoring='accuracy')\n",
    "    scores.append(score.mean())\n",
    "\n",
    "# 교차검증 시각화\n",
    "x = range(1,31)\n",
    "plt.plot(x, scores, 'ro-')\n",
    "plt.show()    "
   ]
  },
  {
   "cell_type": "code",
   "execution_count": 106,
   "metadata": {
    "colab": {
     "base_uri": "https://localhost:8080/",
     "height": 622
    },
    "id": "pjCqqpBNhWof",
    "outputId": "f9aebfd2-2fef-47d2-9ce1-51a4304683cb"
   },
   "outputs": [
    {
     "name": "stdout",
     "output_type": "stream",
     "text": [
      "훈련 정확도 0.9545454545454546\n",
      "예측 정확도 0.9310344827586207\n",
      "[[26  0]\n",
      " [ 2  1]]\n",
      "정밀도 0.9770114942528735\n",
      "재현율 0.9310344827586207\n"
     ]
    },
    {
     "data": {
      "image/png": "[encoded data removed]",
      "text/plain": [
       "<Figure size 432x288 with 1 Axes>"
      ]
     },
     "metadata": {
      "needs_background": "light"
     },
     "output_type": "display_data"
    },
    {
     "data": {
      "image/png": "[encoded data removed]",
      "text/plain": [
       "<Figure size 432x288 with 1 Axes>"
      ]
     },
     "metadata": {
      "needs_background": "light"
     },
     "output_type": "display_data"
    }
   ],
   "source": [
    "# 부스팅 계열\n",
    "\n",
    "from sklearn.ensemble import AdaBoostClassifier\n",
    "from sklearn.ensemble import GradientBoostingClassifier\n",
    "from sklearn.ensemble import RandomForestClassifier\n",
    "\n",
    "adaclf = AdaBoostClassifier(\n",
    "            DecisionTreeClassifier(max_depth=3),\n",
    "            n_estimators=100, learning_rate=0.5,\n",
    "            algorithm='SAMME.R')\n",
    "\n",
    "adaclf.fit(x_train, y_train)\n",
    "print('훈련 정확도', adaclf.score(x_train, y_train))\n",
    "\n",
    "pred = adaclf.predict(x_test)\n",
    "print('예측 정확도', accuracy_score(pred, y_test))\n",
    "\n",
    "print(confusion_matrix(y_test, pred))\n",
    "\n",
    "print('정밀도', precision_score(pred, y_test, average='weighted'))\n",
    "print('재현율', recall_score(pred, y_test, average='weighted'))\n",
    "\n",
    "plot_decision_regions(x_train, y_train, adaclf)\n",
    "plt.show()\n",
    "\n",
    "plot_decision_regions(x_test, y_test, adaclf)\n",
    "plt.show()"
   ]
  },
  {
   "cell_type": "code",
   "execution_count": 107,
   "metadata": {
    "colab": {
     "base_uri": "https://localhost:8080/",
     "height": 72
    },
    "id": "Y1p97L8PnAIN",
    "outputId": "8a8d3e51-4947-48b5-ae56-a2e59083e277"
   },
   "outputs": [
    {
     "name": "stdout",
     "output_type": "stream",
     "text": [
      "훈련정확도 0.9473684210526315\n",
      "[[86  0]\n",
      " [ 5  4]]\n"
     ]
    }
   ],
   "source": [
    "adaclf = AdaBoostClassifier(\n",
    "            DecisionTreeClassifier(max_depth=3),\n",
    "            n_estimators=100, learning_rate=0.5,\n",
    "            algorithm='SAMME.R')\n",
    "adaclf.fit(data, target)\n",
    "\n",
    "print('훈련정확도', adaclf.score(data, target))\n",
    "\n",
    "print(confusion_matrix(target, adaclf.predict(data)))"
   ]
  },
  {
   "cell_type": "code",
   "execution_count": 108,
   "metadata": {
    "colab": {
     "base_uri": "https://localhost:8080/",
     "height": 622
    },
    "id": "1FzkC7COlbkb",
    "outputId": "bf5dd315-810a-4fec-ff25-4a100c28a518"
   },
   "outputs": [
    {
     "name": "stdout",
     "output_type": "stream",
     "text": [
      "0.9545454545454546\n",
      "0.9310344827586207\n",
      "[[26  0]\n",
      " [ 2  1]]\n",
      "정밀도 0.9770114942528735\n",
      "재현율 0.9310344827586207\n"
     ]
    },
    {
     "data": {
      "image/png": "[encoded data removed]",
      "text/plain": [
       "<Figure size 432x288 with 1 Axes>"
      ]
     },
     "metadata": {
      "needs_background": "light"
     },
     "output_type": "display_data"
    },
    {
     "data": {
      "image/png": "[encoded data removed]",
      "text/plain": [
       "<Figure size 432x288 with 1 Axes>"
      ]
     },
     "metadata": {
      "needs_background": "light"
     },
     "output_type": "display_data"
    }
   ],
   "source": [
    "gbclf = GradientBoostingClassifier(\n",
    "    n_estimators=100, max_depth=3,\n",
    "    random_state=2001311200)\n",
    "\n",
    "# 훈련 및 평가, 결정경계 시각화\n",
    "gbclf.fit(x_train, y_train)\n",
    "print(gbclf.score(x_train, y_train))\n",
    "\n",
    "# 예측 및 평가, 결정경계 시각화\n",
    "pred = gbclf.predict(x_test)\n",
    "print(accuracy_score(pred, y_test))\n",
    "\n",
    "print(confusion_matrix(y_test, pred))\n",
    "\n",
    "print('정밀도', precision_score(pred, y_test, average='weighted'))\n",
    "print('재현율', recall_score(pred, y_test, average='weighted'))\n",
    "\n",
    "plot_decision_regions(x_train, y_train, gbclf)\n",
    "plt.show()\n",
    "\n",
    "plot_decision_regions(x_test, y_test, gbclf)\n",
    "plt.show()"
   ]
  },
  {
   "cell_type": "code",
   "execution_count": 109,
   "metadata": {
    "colab": {
     "base_uri": "https://localhost:8080/",
     "height": 72
    },
    "id": "cQfF40jEnGxs",
    "outputId": "6bc6c598-1aa3-4517-8808-8aad90a3cc9e"
   },
   "outputs": [
    {
     "name": "stdout",
     "output_type": "stream",
     "text": [
      "훈련정확도 0.9473684210526315\n",
      "[[86  0]\n",
      " [ 5  4]]\n"
     ]
    }
   ],
   "source": [
    "gbclf = GradientBoostingClassifier(\n",
    "    n_estimators=100, max_depth=3,\n",
    "    random_state=2001311200)\n",
    "gbclf.fit(data, target)\n",
    "\n",
    "print('훈련정확도', gbclf.score(data, target))\n",
    "\n",
    "print(confusion_matrix(target, gbclf.predict(data)))"
   ]
  },
  {
   "cell_type": "code",
   "execution_count": 110,
   "metadata": {
    "colab": {
     "base_uri": "https://localhost:8080/",
     "height": 622
    },
    "id": "1IpcbhSbmZvA",
    "outputId": "1e9d5c3b-f9b5-4ea3-e6cc-53c03643d66a"
   },
   "outputs": [
    {
     "name": "stdout",
     "output_type": "stream",
     "text": [
      "0.9545454545454546\n",
      "0.9310344827586207\n",
      "[[26  0]\n",
      " [ 2  1]]\n",
      "정밀도 0.9770114942528735\n",
      "재현율 0.9310344827586207\n"
     ]
    },
    {
     "data": {
      "image/png": "[encoded data removed]",
      "text/plain": [
       "<Figure size 432x288 with 1 Axes>"
      ]
     },
     "metadata": {
      "needs_background": "light"
     },
     "output_type": "display_data"
    },
    {
     "data": {
      "image/png": "[encoded data removed]",
      "text/plain": [
       "<Figure size 432x288 with 1 Axes>"
      ]
     },
     "metadata": {
      "needs_background": "light"
     },
     "output_type": "display_data"
    }
   ],
   "source": [
    "rfcf = RandomForestClassifier()\n",
    "\n",
    "# 훈련 및 평가, 결정경계 시각화\n",
    "rfcf.fit(x_train, y_train)\n",
    "print(rfcf.score(x_train, y_train))\n",
    "\n",
    "# 예측 및 평가, 결정경계 시각화\n",
    "pred = rfcf.predict(x_test)\n",
    "print(accuracy_score(pred, y_test))\n",
    "\n",
    "print(confusion_matrix(y_test, pred))\n",
    "\n",
    "print('정밀도', precision_score(pred, y_test, average='weighted'))\n",
    "print('재현율', recall_score(pred, y_test, average='weighted'))\n",
    "\n",
    "plot_decision_regions(x_train, y_train, rfcf)\n",
    "plt.show()\n",
    "\n",
    "plot_decision_regions(x_test, y_test, rfcf)\n",
    "plt.show()\n"
   ]
  },
  {
   "cell_type": "code",
   "execution_count": 111,
   "metadata": {
    "colab": {
     "base_uri": "https://localhost:8080/",
     "height": 72
    },
    "id": "1McRfWDNnNnr",
    "outputId": "c4b45a98-d72f-46b7-b8f2-7a69f933f94a"
   },
   "outputs": [
    {
     "name": "stdout",
     "output_type": "stream",
     "text": [
      "훈련정확도 0.9473684210526315\n",
      "[[86  0]\n",
      " [ 5  4]]\n"
     ]
    }
   ],
   "source": [
    "rfcf = RandomForestClassifier()\n",
    "rfcf.fit(data, target)\n",
    "\n",
    "print('훈련정확도', rfcf.score(data, target))\n",
    "\n",
    "print(confusion_matrix(target, rfcf.predict(data)))"
   ]
  },
  {
   "cell_type": "code",
   "execution_count": 112,
   "metadata": {
    "colab": {
     "base_uri": "https://localhost:8080/",
     "height": 622
    },
    "id": "f64ry1Hjlq6X",
    "outputId": "1cf7c2bf-7742-47b5-b39d-3db1ed8d19a0"
   },
   "outputs": [
    {
     "name": "stdout",
     "output_type": "stream",
     "text": [
      "0.9393939393939394\n",
      "0.9310344827586207\n",
      "[[26  0]\n",
      " [ 2  1]]\n",
      "정밀도 0.9770114942528735\n",
      "재현율 0.9310344827586207\n"
     ]
    },
    {
     "data": {
      "image/png": "[encoded data removed]",
      "text/plain": [
       "<Figure size 432x288 with 1 Axes>"
      ]
     },
     "metadata": {
      "needs_background": "light"
     },
     "output_type": "display_data"
    },
    {
     "data": {
      "image/png": "[encoded data removed]",
      "text/plain": [
       "<Figure size 432x288 with 1 Axes>"
      ]
     },
     "metadata": {
      "needs_background": "light"
     },
     "output_type": "display_data"
    }
   ],
   "source": [
    "from xgboost import XGBClassifier\n",
    "\n",
    "xgbclf = XGBClassifier(n_estimators=500,\n",
    "                       learning_rate=0.1, max_depth=3)\n",
    "xgbclf.fit(x_train, y_train)\n",
    "print(xgbclf.score(x_train, y_train))\n",
    "\n",
    "pred = xgbclf.predict(x_test)\n",
    "print(accuracy_score(pred, y_test))\n",
    "\n",
    "print(confusion_matrix(y_test, pred))\n",
    "\n",
    "print('정밀도', precision_score(pred, y_test, average='weighted'))\n",
    "print('재현율', recall_score(pred, y_test, average='weighted'))\n",
    "\n",
    "plot_decision_regions(x_train, y_train, xgbclf)\n",
    "plt.show()\n",
    "\n",
    "plot_decision_regions(x_test, y_test, xgbclf)\n",
    "plt.show()"
   ]
  },
  {
   "cell_type": "code",
   "execution_count": 113,
   "metadata": {
    "colab": {
     "base_uri": "https://localhost:8080/",
     "height": 72
    },
    "id": "Mb27EDarnZWA",
    "outputId": "c3ff8b23-3146-4f80-d5ab-198214b8053e"
   },
   "outputs": [
    {
     "name": "stdout",
     "output_type": "stream",
     "text": [
      "훈련정확도 0.9368421052631579\n",
      "[[86  0]\n",
      " [ 6  3]]\n"
     ]
    }
   ],
   "source": [
    "xgbclf = XGBClassifier(n_estimators=500,\n",
    "                       learning_rate=0.1, max_depth=3)\n",
    "xgbclf.fit(data, target)\n",
    "\n",
    "print('훈련정확도', xgbclf.score(data, target))\n",
    "\n",
    "print(confusion_matrix(target, xgbclf.predict(data)))"
   ]
  },
  {
   "cell_type": "code",
   "execution_count": 127,
   "metadata": {
    "colab": {
     "base_uri": "https://localhost:8080/",
     "height": 90
    },
    "id": "XbSxe2HKl3Bz",
    "outputId": "7e0a751d-5685-4954-9ea5-4a7295338d57"
   },
   "outputs": [
    {
     "name": "stdout",
     "output_type": "stream",
     "text": [
      "훈련 정확도 0.9090909090909091\n",
      "예측 정확도 0.896551724137931\n"
     ]
    },
    {
     "data": {
      "text/plain": [
       "array([[23,  3],\n",
       "       [ 0,  3]], dtype=int64)"
      ]
     },
     "execution_count": 127,
     "metadata": {},
     "output_type": "execute_result"
    }
   ],
   "source": [
    "# SVM 분석\n",
    "\n",
    "from sklearn.svm import SVC\n",
    "\n",
    "svcl = SVC(kernel='linear', C=1E10, random_state=0)\n",
    "svcl.fit(x_train, y_train)\n",
    "pred = svcl.predict(x_test)\n",
    "\n",
    "# 분석결과 평가\n",
    "print('훈련 정확도', svcl.score(x_train, y_train))\n",
    "print('예측 정확도', accuracy_score(y_test, pred))\n",
    "\n",
    "confusion_matrix(y_test, pred)\n"
   ]
  },
  {
   "cell_type": "code",
   "execution_count": 128,
   "metadata": {
    "colab": {
     "base_uri": "https://localhost:8080/",
     "height": 605
    },
    "id": "Mau1u6bzoJxb",
    "outputId": "e575db59-42c1-4429-ba53-d06d5b4a5abd"
   },
   "outputs": [
    {
     "name": "stdout",
     "output_type": "stream",
     "text": [
      "정밀도 0.9084880636604775\n",
      "재현율 0.896551724137931\n"
     ]
    },
    {
     "data": {
      "image/png": "[encoded data removed]",
      "text/plain": [
       "<Figure size 432x288 with 1 Axes>"
      ]
     },
     "metadata": {
      "needs_background": "light"
     },
     "output_type": "display_data"
    },
    {
     "data": {
      "image/png": "[encoded data removed]",
      "text/plain": [
       "<Figure size 432x288 with 1 Axes>"
      ]
     },
     "metadata": {
      "needs_background": "light"
     },
     "output_type": "display_data"
    }
   ],
   "source": [
    "print('정밀도', precision_score(pred, y_test, average='weighted'))\n",
    "print('재현율', recall_score(pred, y_test, average='weighted'))\n",
    "\n",
    "plot_decision_regions(x_train, y_train, svcl)\n",
    "plt.show()\n",
    "\n",
    "plot_decision_regions(x_test, y_test, svcl)\n",
    "plt.show()"
   ]
  },
  {
   "cell_type": "code",
   "execution_count": 116,
   "metadata": {
    "colab": {
     "base_uri": "https://localhost:8080/",
     "height": 72
    },
    "id": "VnufZMS0oVP6",
    "outputId": "05b8ac39-ac5d-4618-a6a3-858063be992e"
   },
   "outputs": [
    {
     "name": "stdout",
     "output_type": "stream",
     "text": [
      "훈련정확도 0.9052631578947369\n",
      "[[77  9]\n",
      " [ 0  9]]\n"
     ]
    }
   ],
   "source": [
    "svcl = SVC(kernel='linear', C=1E10, random_state=0)\n",
    "svcl.fit(data, target)\n",
    "\n",
    "print('훈련정확도', svcl.score(data, target))\n",
    "\n",
    "print(confusion_matrix(target, svcl.predict(data)))"
   ]
  },
  {
   "cell_type": "code",
   "execution_count": 126,
   "metadata": {
    "colab": {
     "base_uri": "https://localhost:8080/",
     "height": 90
    },
    "id": "iRDdg7Pwoalu",
    "outputId": "17900a93-8133-4e36-9022-2b73d3cf37ad"
   },
   "outputs": [
    {
     "name": "stdout",
     "output_type": "stream",
     "text": [
      "훈련 정확도 0.9393939393939394\n",
      "예측 정확도 0.9310344827586207\n"
     ]
    },
    {
     "data": {
      "text/plain": [
       "array([[26,  0],\n",
       "       [ 2,  1]], dtype=int64)"
      ]
     },
     "execution_count": 126,
     "metadata": {},
     "output_type": "execute_result"
    }
   ],
   "source": [
    "svcrb = SVC(kernel='rbf', C=1E10, random_state=0)\n",
    "svcrb.fit(x_train, y_train)\n",
    "pred = svcrb.predict(x_test)\n",
    "\n",
    "# 분석결과 평가\n",
    "print('훈련 정확도', svcrb.score(x_train, y_train))\n",
    "print('예측 정확도', accuracy_score(y_test, pred))\n",
    "\n",
    "confusion_matrix(y_test, pred)"
   ]
  },
  {
   "cell_type": "code",
   "execution_count": 118,
   "metadata": {
    "colab": {
     "base_uri": "https://localhost:8080/",
     "height": 549
    },
    "id": "kabLduZaoxLA",
    "outputId": "26685b68-9e34-4499-a8a7-cb0afdd3f0b9"
   },
   "outputs": [
    {
     "name": "stdout",
     "output_type": "stream",
     "text": [
      "정밀도 0.9770114942528735\n",
      "재현율 0.9310344827586207\n"
     ]
    },
    {
     "data": {
      "image/png": "[encoded data removed]",
      "text/plain": [
       "<Figure size 432x288 with 1 Axes>"
      ]
     },
     "metadata": {
      "needs_background": "light"
     },
     "output_type": "display_data"
    },
    {
     "data": {
      "image/png": "[encoded data removed]",
      "text/plain": [
       "<Figure size 432x288 with 1 Axes>"
      ]
     },
     "metadata": {
      "needs_background": "light"
     },
     "output_type": "display_data"
    }
   ],
   "source": [
    "print('정밀도', precision_score(pred, y_test, average='weighted'))\n",
    "print('재현율', recall_score(pred, y_test, average='weighted'))\n",
    "\n",
    "plot_decision_regions(x_train, y_train, svcrb)\n",
    "plt.show()\n",
    "\n",
    "plot_decision_regions(x_test, y_test, svcrb)\n",
    "plt.show()"
   ]
  },
  {
   "cell_type": "code",
   "execution_count": 125,
   "metadata": {
    "colab": {
     "base_uri": "https://localhost:8080/",
     "height": 72
    },
    "id": "BkQQhrSYpuR8",
    "outputId": "8e472335-8b26-4671-d5e4-edecf799cc2d"
   },
   "outputs": [
    {
     "name": "stdout",
     "output_type": "stream",
     "text": [
      "훈련정확도 0.9157894736842105\n",
      "[[79  7]\n",
      " [ 1  8]]\n"
     ]
    }
   ],
   "source": [
    "svcrb = SVC(kernel='rbf', C=1E10, random_state=0)\n",
    "svcrb.fit(data, target)\n",
    "\n",
    "print('훈련정확도', svcrb.score(data, target))\n",
    "\n",
    "print(confusion_matrix(target, svcrb.predict(data)))"
   ]
  },
  {
   "cell_type": "code",
   "execution_count": 120,
   "metadata": {
    "colab": {
     "base_uri": "https://localhost:8080/",
     "height": 90
    },
    "id": "Z79xCGvGr8HI",
    "outputId": "abcede15-c09a-4ca8-fd25-237617677e3d"
   },
   "outputs": [
    {
     "name": "stdout",
     "output_type": "stream",
     "text": [
      "훈련 정확도 0.8939393939393939\n",
      "예측 정확도 0.8620689655172413\n"
     ]
    },
    {
     "data": {
      "text/plain": [
       "array([[23,  3],\n",
       "       [ 1,  2]], dtype=int64)"
      ]
     },
     "execution_count": 120,
     "metadata": {},
     "output_type": "execute_result"
    }
   ],
   "source": [
    "# 신경망\n",
    "\n",
    "from sklearn.neural_network import MLPClassifier\n",
    "\n",
    "mlp = MLPClassifier(solver='lbfgs', random_state=0, hidden_layer_sizes=[15, 50])\n",
    "# mlp = MLPClassifier(solver='adam', activation='relu', hidden_layer_sizes=[50])\n",
    "mlp.fit(x_train, y_train)\n",
    "\n",
    "pred = mlp.predict(x_test)\n",
    "\n",
    "# 분석결과 평가\n",
    "print('훈련 정확도', mlp.score(x_train, y_train))\n",
    "print('예측 정확도', accuracy_score(y_test, pred))\n",
    "\n",
    "confusion_matrix(y_test, pred)\n"
   ]
  },
  {
   "cell_type": "code",
   "execution_count": 121,
   "metadata": {
    "colab": {
     "base_uri": "https://localhost:8080/",
     "height": 549
    },
    "id": "DRSjfp4dsQZf",
    "outputId": "8ed5a2fc-dbcf-49f9-d837-bd20caf188d9"
   },
   "outputs": [
    {
     "name": "stdout",
     "output_type": "stream",
     "text": [
      "정밀도 0.8470380194518125\n",
      "재현율 0.8620689655172413\n"
     ]
    },
    {
     "data": {
      "image/png": "[encoded data removed]",
      "text/plain": [
       "<Figure size 432x288 with 1 Axes>"
      ]
     },
     "metadata": {
      "needs_background": "light"
     },
     "output_type": "display_data"
    },
    {
     "data": {
      "image/png": "[encoded data removed]",
      "text/plain": [
       "<Figure size 432x288 with 1 Axes>"
      ]
     },
     "metadata": {
      "needs_background": "light"
     },
     "output_type": "display_data"
    }
   ],
   "source": [
    "print('정밀도', precision_score(pred, y_test, average='weighted'))\n",
    "print('재현율', recall_score(pred, y_test, average='weighted'))\n",
    "\n",
    "plot_decision_regions(x_train, y_train, mlp)\n",
    "plt.show()\n",
    "\n",
    "plot_decision_regions(x_test, y_test, mlp)\n",
    "plt.show()"
   ]
  },
  {
   "cell_type": "code",
   "execution_count": 122,
   "metadata": {
    "colab": {
     "base_uri": "https://localhost:8080/",
     "height": 319
    },
    "id": "zAQx9EymsiV0",
    "outputId": "3519de7e-b59e-45b1-af56-1a0a11e7fdd2"
   },
   "outputs": [
    {
     "name": "stdout",
     "output_type": "stream",
     "text": [
      "훈련정확도 0.9368421052631579\n",
      "[[86  0]\n",
      " [ 6  3]]\n"
     ]
    },
    {
     "data": {
      "image/png": "[encoded data removed]",
      "text/plain": [
       "<Figure size 432x288 with 1 Axes>"
      ]
     },
     "metadata": {
      "needs_background": "light"
     },
     "output_type": "display_data"
    }
   ],
   "source": [
    "mlp = MLPClassifier(solver='lbfgs', random_state=0, hidden_layer_sizes=[5,10])\n",
    "mlp.fit(data, target)\n",
    "\n",
    "print('훈련정확도', mlp.score(data, target))\n",
    "\n",
    "print(confusion_matrix(target, mlp.predict(data)))\n",
    "\n",
    "plot_decision_regions(data, target, mlp)\n",
    "plt.show()"
   ]
  },
  {
   "cell_type": "code",
   "execution_count": null,
   "metadata": {},
   "outputs": [],
   "source": []
  }
 ],
 "metadata": {
  "colab": {
   "collapsed_sections": [],
   "name": "KBO 분석1.ipynb",
   "provenance": []
  },
  "kernelspec": {
   "display_name": "Python 3",
   "language": "python",
   "name": "python3"
  },
  "language_info": {
   "codemirror_mode": {
    "name": "ipython",
    "version": 3
   },
   "file_extension": ".py",
   "mimetype": "text/x-python",
   "name": "python",
   "nbconvert_exporter": "python",
   "pygments_lexer": "ipython3",
   "version": "3.7.6"
  },
  "toc": {
   "base_numbering": 1,
   "nav_menu": {},
   "number_sections": true,
   "sideBar": true,
   "skip_h1_title": false,
   "title_cell": "Table of Contents",
   "title_sidebar": "Contents",
   "toc_cell": false,
   "toc_position": {},
   "toc_section_display": true,
   "toc_window_display": false
  },
  "varInspector": {
   "cols": {
    "lenName": 16,
    "lenType": 16,
    "lenVar": 40
   },
   "kernels_config": {
    "python": {
     "delete_cmd_postfix": "",
     "delete_cmd_prefix": "del ",
     "library": "var_list.py",
     "varRefreshCmd": "print(var_dic_list())"
    },
    "r": {
     "delete_cmd_postfix": ") ",
     "delete_cmd_prefix": "rm(",
     "library": "var_list.r",
     "varRefreshCmd": "cat(var_dic_list()) "
    }
   },
   "types_to_exclude": [
    "module",
    "function",
    "builtin_function_or_method",
    "instance",
    "_Feature"
   ],
   "window_display": false
  }
 },
 "nbformat": 4,
 "nbformat_minor": 1
}
